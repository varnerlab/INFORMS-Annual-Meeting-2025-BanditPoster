{
 "cells": [
  {
   "cell_type": "markdown",
   "id": "994c2bd7",
   "metadata": {},
   "source": [
    "# Example: Online Stochastic Bandit Algorithms for Portfolio Rebalancing\n",
    "In this example, we'll propose a stochastic multi-armed bandit approach to portfolio rebalancing where a bandit algorithm selects which assets to include in the portfolio, and an optimal Utility Maximization (UM) approach is used to determine the optimal weights for the selected assets. Thus, we simultaneously address the asset selection and weight allocation problems in portfolio management.\n",
    "\n",
    "> __Learning Objectives__\n",
    "> \n",
    "> By the end of this example, you should be able to:\n",
    "> * __Apply multi-armed bandit algorithms__ to explore different portfolio compositions by balancing exploration of uncertain subsets with exploitation of known high-utility combinations.\n",
    "> * __Formulate and solve utility maximization problems__ using Cobb-Douglas utility functions to determine optimal asset share counts for a selected portfolio, with the understanding that this has an analytical solution for asset selections.\n",
    "> * __Integrate bandit selection with utility maximization__ to demonstrate how these two approaches work together to simultaneously address asset selection and weight allocation problems in portfolio management.\n",
    "\n",
    "This material will be presented at the upcoming [INFORMS Annual Meeting 2025](https://meetings.informs.org/wordpress/annual/) in Atlanta, GA on October 26-29, 2025. Let's get started!\n",
    "___"
   ]
  },
  {
   "cell_type": "markdown",
   "id": "3dd47b0f",
   "metadata": {},
   "source": [
    "## Setup, Data, and Prerequisites\n",
    "First, we set up the computational environment by including the `Include.jl` file and loading any needed resources.\n",
    "\n",
    "> __Include:__ The [`include(...)` command](https://docs.julialang.org/en/v1/base/base/#include) evaluates the contents of the input source file, `Include.jl`, in the notebook's global scope. The `Include.jl` file sets paths, loads required external packages, etc. For additional information on functions and types used in this material, see the [Julia programming language documentation](https://docs.julialang.org/en/v1/). \n",
    "\n",
    "Let's set up our code environment:"
   ]
  },
  {
   "cell_type": "code",
   "execution_count": 3,
   "id": "15925ca1",
   "metadata": {},
   "outputs": [],
   "source": [
    "include(joinpath(@__DIR__, \"Include-informs.jl\")); # include the Include.jl file"
   ]
  },
  {
   "cell_type": "markdown",
   "id": "9f9c1333",
   "metadata": {},
   "source": [
    "For additional information on functions and types used in this material, see the [Julia programming language documentation](https://docs.julialang.org/en/v1/) and the [VLQuantitativeFinancePackage.jl documentation](https://github.com/varnerlab/VLQuantitativeFinancePackage.jl). "
   ]
  },
  {
   "cell_type": "markdown",
   "id": "f5ca5abd",
   "metadata": {},
   "source": [
    "### Data\n",
    "We gathered daily open-high-low-close (OHLC) data for each firm in the [S&P 500](https://en.wikipedia.org/wiki/S%26P_500) from `01-03-2025` until `10-17-2025`, along with data for several exchange-traded funds and volatility products during that time period.\n",
    "\n",
    "Let's load the `original_dataset::DataFrame` by calling [the `MyTestingMarketDataSet()` function](https://varnerlab.github.io/VLQuantitativeFinancePackage.jl/dev/data/#VLQuantitativeFinancePackage.MyTestingMarketDataSet)."
   ]
  },
  {
   "cell_type": "code",
   "execution_count": 6,
   "id": "27b928aa",
   "metadata": {},
   "outputs": [
    {
     "data": {
      "text/plain": [
       "Dict{String, DataFrame} with 482 entries:\n",
       "  \"NI\"   => \u001b[1m182×8 DataFrame\u001b[0m\u001b[0m…\n",
       "  \"EMR\"  => \u001b[1m182×8 DataFrame\u001b[0m\u001b[0m…\n",
       "  \"CTAS\" => \u001b[1m182×8 DataFrame\u001b[0m\u001b[0m…\n",
       "  \"HSIC\" => \u001b[1m182×8 DataFrame\u001b[0m\u001b[0m…\n",
       "  \"KIM\"  => \u001b[1m182×8 DataFrame\u001b[0m\u001b[0m…\n",
       "  \"PLD\"  => \u001b[1m182×8 DataFrame\u001b[0m\u001b[0m…\n",
       "  \"IEX\"  => \u001b[1m182×8 DataFrame\u001b[0m\u001b[0m…\n",
       "  \"BAC\"  => \u001b[1m182×8 DataFrame\u001b[0m\u001b[0m…\n",
       "  \"CBOE\" => \u001b[1m182×8 DataFrame\u001b[0m\u001b[0m…\n",
       "  \"EXR\"  => \u001b[1m182×8 DataFrame\u001b[0m\u001b[0m…\n",
       "  \"NCLH\" => \u001b[1m182×8 DataFrame\u001b[0m\u001b[0m…\n",
       "  \"CVS\"  => \u001b[1m182×8 DataFrame\u001b[0m\u001b[0m…\n",
       "  \"DRI\"  => \u001b[1m182×8 DataFrame\u001b[0m\u001b[0m…\n",
       "  \"DTE\"  => \u001b[1m182×8 DataFrame\u001b[0m\u001b[0m…\n",
       "  \"ZION\" => \u001b[1m182×8 DataFrame\u001b[0m\u001b[0m…\n",
       "  \"AVY\"  => \u001b[1m182×8 DataFrame\u001b[0m\u001b[0m…\n",
       "  \"EW\"   => \u001b[1m182×8 DataFrame\u001b[0m\u001b[0m…\n",
       "  \"EA\"   => \u001b[1m182×8 DataFrame\u001b[0m\u001b[0m…\n",
       "  \"NWSA\" => \u001b[1m182×8 DataFrame\u001b[0m\u001b[0m…\n",
       "  \"BBWI\" => \u001b[1m182×8 DataFrame\u001b[0m\u001b[0m…\n",
       "  \"CAG\"  => \u001b[1m182×8 DataFrame\u001b[0m\u001b[0m…\n",
       "  \"GPC\"  => \u001b[1m182×8 DataFrame\u001b[0m\u001b[0m…\n",
       "  \"FCX\"  => \u001b[1m182×8 DataFrame\u001b[0m\u001b[0m…\n",
       "  \"GILD\" => \u001b[1m182×8 DataFrame\u001b[0m\u001b[0m…\n",
       "  \"INFO\" => \u001b[1m182×8 DataFrame\u001b[0m\u001b[0m…\n",
       "  ⋮      => ⋮"
      ]
     },
     "execution_count": 6,
     "metadata": {},
     "output_type": "execute_result"
    }
   ],
   "source": [
    "original_out_of_sample_dataset = MyTestingMarketDataSet() |> x-> x[\"dataset\"] # load the original dataset (testing)"
   ]
  },
  {
   "cell_type": "markdown",
   "id": "300be55a",
   "metadata": {},
   "source": [
    "Not all tickers in our dataset have the maximum number of trading days for various reasons, such as acquisition or delisting events. Let's collect only those tickers with the maximum number of trading days.\n",
    "\n",
    "First, let's compute the number of records for a firm that we know has the maximum value, e.g., `AAPL`, and save that value in the `maximum_number_trading_out_of_sample_days::Int64` variable:"
   ]
  },
  {
   "cell_type": "code",
   "execution_count": 8,
   "id": "8de0bc24",
   "metadata": {},
   "outputs": [],
   "source": [
    "maximum_number_trading_out_of_sample_days = original_out_of_sample_dataset[\"AAPL\"] |> nrow; # maximum number of trading days in our dataset "
   ]
  },
  {
   "cell_type": "markdown",
   "id": "f711679c",
   "metadata": {},
   "source": [
    "Now, let's iterate through our data and collect only tickers with `maximum_number_trading_out_of_sample_days` records. Save that data in the `dataset::Dict{String,DataFrame}` variable:"
   ]
  },
  {
   "cell_type": "code",
   "execution_count": 10,
   "id": "d4439b7f",
   "metadata": {},
   "outputs": [],
   "source": [
    "dataset = let\n",
    "\n",
    "    # initialize -\n",
    "    dataset = Dict{String, DataFrame}();\n",
    "\n",
    "    # iterate through the dictionary; we can't guarantee a particular order\n",
    "    for (ticker, data) ∈ original_out_of_sample_dataset  # we get each (K, V) pair!\n",
    "        if (nrow(data) == maximum_number_trading_out_of_sample_days) # check if ticker has maximum trading days\n",
    "            dataset[ticker] = data;\n",
    "        end\n",
    "    end\n",
    "    dataset; # return\n",
    "end;"
   ]
  },
  {
   "cell_type": "markdown",
   "id": "90514e53",
   "metadata": {},
   "source": [
    "Let's get a list of the firms in our cleaned dataset and sort them alphabetically. We store the sorted firm ticker symbols in the `list_of_tickers_price_data::Array{String,1}` variable:"
   ]
  },
  {
   "cell_type": "code",
   "execution_count": 12,
   "id": "aed9c128",
   "metadata": {},
   "outputs": [],
   "source": [
    "list_of_tickers_price_data = keys(dataset) |> collect |> sort;"
   ]
  },
  {
   "cell_type": "markdown",
   "id": "8333df43",
   "metadata": {},
   "source": [
    "Finally, let's load the single index model parameters that we computed in the previous example. We'll store this data in the `sim_model_parameters::Dict{String,NamedTuple}` variable. In addition, we return a few other useful variables, such as the historical market growth rate, the mean and variance of the market growth, etc."
   ]
  },
  {
   "cell_type": "code",
   "execution_count": 14,
   "id": "96889595",
   "metadata": {},
   "outputs": [],
   "source": [
    "sim_model_parameters,Gₘ,Ḡₘ, Varₘ = let\n",
    "\n",
    "    # initialize -\n",
    "    path_to_sim_model_parameters = joinpath(_PATH_TO_DATA,\"SIMs-SPY-SP500-01-03-14-to-12-31-24.jld2\");\n",
    "    sim_model_parameters = JLD2.load(path_to_sim_model_parameters);\n",
    "    parameters = sim_model_parameters[\"data\"]; # return\n",
    "\n",
    "    Gₘ = sim_model_parameters[\"Gₘ\"]; # Get the past market growth rate \n",
    "    Ḡₘ = sim_model_parameters[\"Ḡₘ\"]; # mean of market growth rates\n",
    "    Varₘ = sim_model_parameters[\"Varₘ\"]; # variance of market growth\n",
    "\n",
    "    # return -\n",
    "    parameters,  Gₘ , Ḡₘ, Varₘ;\n",
    "end;"
   ]
  },
  {
   "cell_type": "markdown",
   "id": "c88bd5b5",
   "metadata": {},
   "source": [
    "Now let's get a list of all tickers for which we have single index model parameters:"
   ]
  },
  {
   "cell_type": "code",
   "execution_count": 16,
   "id": "d51886a0",
   "metadata": {},
   "outputs": [],
   "source": [
    "tickers_that_we_sim_sim_data_for = keys(sim_model_parameters) |> collect |> sort;"
   ]
  },
  {
   "cell_type": "markdown",
   "id": "9198ae23",
   "metadata": {},
   "source": [
    "We need to use only the tickers for which we have both price data and SIM parameters. We'll compute [the intersection of the two lists](https://docs.julialang.org/en/v1/base/collections/#Base.intersect) and store the result in the `list_of_tickers::Array{String,1}` variable:"
   ]
  },
  {
   "cell_type": "code",
   "execution_count": 18,
   "id": "70c74ec0",
   "metadata": {},
   "outputs": [],
   "source": [
    "list_of_tickers = intersect(tickers_that_we_sim_sim_data_for, list_of_tickers_price_data);"
   ]
  },
  {
   "cell_type": "markdown",
   "id": "bf1dddf0",
   "metadata": {},
   "source": [
    "Finally, we need to compute the projection matrix `X̄::Array{Float64,2}` = $(\\mathbf{X}^{\\top}\\mathbf{X})^{-1}\\mathbf{X}^{\\top}$ (which will be handy for later) where $\\mathbf{X}$ is the market factor matrix:"
   ]
  },
  {
   "cell_type": "code",
   "execution_count": 20,
   "id": "e76cfb25",
   "metadata": {},
   "outputs": [
    {
     "data": {
      "text/plain": [
       "2×2766 Matrix{Float64}:\n",
       "  0.000367293  0.000355057  0.0003607   …   0.000382956   0.000370094\n",
       " -5.4289e-5    6.10402e-5   7.85216e-6     -0.000201909  -8.06852e-5"
      ]
     },
     "execution_count": 20,
     "metadata": {},
     "output_type": "execute_result"
    }
   ],
   "source": [
    "X̄ = let\n",
    "    \n",
    "    \n",
    "    Rₘ = Gₘ; # get Gₘ from the sim model parameters\n",
    "    max_length = length(Rₘ);\n",
    "    X = [ones(max_length) Rₘ];\n",
    "\n",
    "    a = inv(transpose(X)*X)*transpose(X)\n",
    "    a;\n",
    "end"
   ]
  },
  {
   "cell_type": "markdown",
   "id": "908026aa",
   "metadata": {},
   "source": [
    "### Constants\n",
    "Finally, let's set some constants we'll use later in this notebook. The comments describe the constants, their units, and permissible values:"
   ]
  },
  {
   "cell_type": "code",
   "execution_count": 22,
   "id": "a01b88f6",
   "metadata": {},
   "outputs": [],
   "source": [
    "Δt = (1/252); # time-step\n",
    "total_number_of_tickers = length(list_of_tickers); # how many tickers do we have in my dataset?\n",
    "investment_budget = 10000.0; # initial budget of the agent\n",
    "risk_free_rate = 0.0418; # risk free rate\n",
    "μₘ =  Ḡₘ; # expected growth for SPY\n",
    "B = investment_budget; # TODO: Budget for portfolio. We can change this later if we want\n",
    "ϵ = 0.001; # hyperparameter: minimum share number for each asset\n",
    "α::Float64 = 0.80; # learning rate for moving average calculation\n",
    "Tₘ::Int64 = 10; # how many days for market time\n",
    "λ::Float64 = 1; # risk scale"
   ]
  },
  {
   "cell_type": "markdown",
   "id": "ca5666bb",
   "metadata": {},
   "source": [
    "### Implementation\n",
    "Next, build the `world(...)` function. The `world(...)` function takes the action vector `a::Vector{Int64}` where the elements of `a::Vector{Int64}` are binary variables indicating whether to select an asset (`1`) or not (`0`). The length of the action vector `a` is $|\\dim\\mathcal{P}|$, i.e., the total number of assets available for selection.\n",
    "\n",
    "> __What's in the action vector?__ The action vector `a::Vector{Int64}` is a binary vector of length $|\\dim\\mathcal{P}|$ where each element indicates whether to include (`1`) or exclude (`0`) the corresponding asset from the portfolio. For example, if we have 5 assets and the action vector is `[1, 0, 1, 0, 1]`, it means we are selecting assets 1, 3, and 5 for inclusion in the portfolio while excluding assets 2 and 4.\n",
    "\n",
    "The `world(...)` function returns the portfolio Utility, the optimal number of shares for each selected asset, the fill price for each selected asset, and the user preference values $\\gamma_i$ for each selected asset. "
   ]
  },
  {
   "cell_type": "code",
   "execution_count": 24,
   "id": "c7c5a624",
   "metadata": {},
   "outputs": [],
   "source": [
    "function world(t::Int, a::Vector{Int64}, context::MyDynamicBanditPortfolioAllocationContextModel)\n",
    "\n",
    "    # initialize -\n",
    "    total_number_of_assets = context.number_of_assets; # total number of assets that we *could* purchase\n",
    "    bounds = context.bounds; # bounds for how much we purchase\n",
    "    B = context.B; # budget for this period\n",
    "    mylocaltickers = context.tickers; # tickers for the assets in this portfolio\n",
    "    localdataset = context.dataset; # dataset for the assets in this portfolio\n",
    "    singleindexmodels = context.singleindexmodels; # single index models for the assets in this portfolio\n",
    "    X̄ = context.X̄;\n",
    "    number_of_samples_to_draw = context.number_of_samples_to_draw;\n",
    "\n",
    "    # what is the min share purchase?\n",
    "    min_share_purchase = bounds[1,1];\n",
    "\n",
    "    # Compute the fill price vector -\n",
    "    pₒ = zeros(total_number_of_assets);\n",
    "    for i ∈ eachindex(mylocaltickers)\n",
    "        ticker = mylocaltickers[i];\n",
    "        H = localdataset[ticker][t,:high];\n",
    "        L = localdataset[ticker][t,:low];\n",
    "        f = rand();\n",
    "        pₒ[i] = f*H + (1-f)*L; # randomness in the fill price\n",
    "    end\n",
    "\n",
    "    # next, compute the preference parameters γ -\n",
    "    γ = zeros(total_number_of_assets);\n",
    "    for i ∈ eachindex(mylocaltickers)\n",
    "        ticker = mylocaltickers[i];\n",
    "\n",
    "        # get the model -\n",
    "        simmodel = singleindexmodels[ticker];\n",
    "        α = simmodel.alpha;\n",
    "        β = simmodel.beta;\n",
    "        CI_alpha_L = simmodel.alpha_95_CI_lower;\n",
    "        CI_alpha_U = simmodel.alpha_95_CI_upper;\n",
    "        CI_beta_L = simmodel.beta_95_CI_lower;\n",
    "        CI_beta_U = simmodel.beta_95_CI_upper;\n",
    "\n",
    "        # compute random parameters -\n",
    "        # αᵢ = rand(Uniform(CI_alpha_L, CI_alpha_U)); # sample from the confidence interval\n",
    "        # βᵢ = rand(Uniform(CI_beta_L, CI_beta_U));\n",
    "        αᵢ = α; # use the mean value\n",
    "        βᵢ = β; # use the mean value\n",
    "\n",
    "        # Compute the alpha and beta values -\n",
    "        R = αᵢ + βᵢ*μₘ; # draw random value from the error distribution -\n",
    "        γ[i] = tanh_fast(R/(βᵢ^λ));\n",
    "    end\n",
    "\n",
    "    # Compute the optimal share count -\n",
    "    n = zeros(total_number_of_assets); # initialize space for optimal solution\n",
    "    S = findall(aᵢ -> aᵢ == 1, a); # Which assets does our bandit want us to buy?\n",
    "    number_of_selected_arms = length(S);\n",
    "\n",
    "    # In the set of assets to explore, do we have any non-preferred assets?\n",
    "    negative_gamma_flag = any(γ[S] .< 0);\n",
    "    if (negative_gamma_flag == false)\n",
    "        \n",
    "        # easy case: all of my potential assets are preferred.\n",
    "        γ̄ = sum(γ[S]);\n",
    "        B̄ = B;\n",
    "        for s ∈ S\n",
    "            n[s] = (γ[s]/γ̄)*(B̄/pₒ[s]);\n",
    "        end\n",
    "    else\n",
    "\n",
    "        # hard case: some assets are *not* preferred. \n",
    "        \n",
    "        # Prep work for non-preferred case\n",
    "        # First: the non-preferred assets are min_share_purchase -\n",
    "        # Second: Compute the adjusted budget\n",
    "        # Third: Compute γ̄\n",
    "        B̄ = B;\n",
    "        γ̄ = 0.0;\n",
    "        for s ∈ S\n",
    "            if (γ[s] < 0.0)\n",
    "                B̄ += -min_share_purchase*pₒ[s];\n",
    "                n[s] = min_share_purchase;\n",
    "            else\n",
    "                γ̄ += γ[s];\n",
    "            end\n",
    "        end\n",
    "\n",
    "        # compute the optimal preferred assets -\n",
    "        for s ∈ S\n",
    "            if (γ[s] ≥ 0.0)\n",
    "                n[s] = (γ[s]/γ̄)*(B̄/pₒ[s]);\n",
    "            end\n",
    "        end\n",
    "    end\n",
    "\n",
    "    # premultiplier -\n",
    "    κ = negative_gamma_flag == true ? -1.0 : 1.0;\n",
    "    \n",
    "    # Compute the optimal utility -\n",
    "    U = κ;\n",
    "    for s ∈ S\n",
    "        U *= (n[s]^γ[s])\n",
    "    end\n",
    "    \n",
    "    # Return the utility and the share count that we allocated\n",
    "    return U, n, pₒ, γ\n",
    "end;"
   ]
  },
  {
   "cell_type": "markdown",
   "id": "8d1f67d9",
   "metadata": {},
   "source": [
    "___"
   ]
  },
  {
   "cell_type": "markdown",
   "id": "aca2e749",
   "metadata": {},
   "source": [
    "## Task 1: Maximum Utility Portfolio Optimization Problem\n",
    "In this task, we'll solve the maximum utility portfolio optimization problem for a given set that we select such that we have the maximum __investor satisfaction__, i.e., maximum Utility. Let's start by specifying the possible tickers that our online stochastic bandit algorithm can choose from. We'll store these tickers in the `my_test_portfolio_tickers::Array{String,1}` variable:"
   ]
  },
  {
   "cell_type": "code",
   "execution_count": 27,
   "id": "01633586",
   "metadata": {},
   "outputs": [],
   "source": [
    "my_test_portfolio_tickers = [\"AAPL\", \"MSFT\", \"INTC\", \"MU\", \"AMD\", \"GS\", \"BAC\", \"WFC\", \"C\", \"F\", \"GM\", \n",
    "    \"JNJ\", \"PG\", \"UPS\", \"COST\", \"TGT\", \"WMT\", \"MRK\", \"PFE\", \"ADBE\"]; # tickers selected for portfolio"
   ]
  },
  {
   "cell_type": "code",
   "execution_count": 28,
   "id": "8c5d750f",
   "metadata": {},
   "outputs": [
    {
     "data": {
      "text/plain": [
       "20"
      ]
     },
     "execution_count": 28,
     "metadata": {},
     "output_type": "execute_result"
    }
   ],
   "source": [
    "length(my_test_portfolio_tickers) # how many tickers do we have?"
   ]
  },
  {
   "cell_type": "markdown",
   "id": "b38bc336",
   "metadata": {},
   "source": [
    "Given this set of possible tickers, let's compute the expected growth rate vector and the covariance matrix for these assets using their single index model parameters. We don't use these values in the bandit calculation, but we will need them to compute the Sharpe ratio of the resulting portfolio later. \n",
    "\n",
    "We'll store these in the `μ̂_sim::Array{Float64,1}` and `Σ̂_sim::Array{Float64,2}` variables:"
   ]
  },
  {
   "cell_type": "code",
   "execution_count": 30,
   "id": "d36e589c",
   "metadata": {
    "jupyter": {
     "source_hidden": true
    }
   },
   "outputs": [],
   "source": [
    "μ̂_sim, Σ̂_sim = let\n",
    "\n",
    "    # initialize -\n",
    "    N = length(my_test_portfolio_tickers); # number of assets in portfolio\n",
    "    μ_sim = Array{Float64,1}(); # drift vector\n",
    "    Σ̂_sim = Array{Float64,2}(undef, N, N); # covariance matrix for *our* portfolio\n",
    "    \n",
    "    # Ḡₘ = mean(Gₘ); # mean of market factor # TODO: already loaded above, we'll use 2014 - 2024 data value\n",
    "    σ²ₘ = Varₘ; # variance of market factor # TODO: already loaded above, we'll use 2014 - 2024 data value\n",
    "\n",
    "    # compute the expected growth rate (return) for each of our tickers -\n",
    "    for i ∈ eachindex(my_test_portfolio_tickers)\n",
    "        ticker = my_test_portfolio_tickers[i];\n",
    "        data = sim_model_parameters[ticker]; # get the data for this ticker\n",
    "        αᵢ = data.alpha; # get alpha\n",
    "        βᵢ = data.beta; # get beta\n",
    "        Ḡᵢ = αᵢ + βᵢ* Ḡₘ; # compute the growth rate for this ticker\n",
    "        push!(μ_sim, Ḡᵢ); # append growth rate value to μ_sim\n",
    "    end\n",
    "\n",
    "    # compute the covariance matrix using the single index model -\n",
    "    for i ∈ eachindex(my_test_portfolio_tickers)\n",
    "\n",
    "        ticker_i = my_test_portfolio_tickers[i];\n",
    "        data_i = sim_model_parameters[ticker_i]; # get the data for ticker i\n",
    "        βᵢ = data_i.beta; # get beta for ticker i\n",
    "        σ²_εᵢ = (Δt)*data_i.training_variance; # residual variance for ticker i\n",
    "\n",
    "        for j ∈ eachindex(my_test_portfolio_tickers)\n",
    "            \n",
    "            ticker_j = my_test_portfolio_tickers[j];\n",
    "            data_j = sim_model_parameters[ticker_j]; # get the data for ticker j\n",
    "            βⱼ = data_j.beta; # get beta for ticker j\n",
    "            σ²_εⱼ = (Δt)*data_j.training_variance; # residual variance for ticker j\n",
    "            \n",
    "            if i == j\n",
    "                Σ̂_sim[i,j] = βᵢ*βⱼ*σ²ₘ + σ²_εᵢ; # diagonal elements\n",
    "            else\n",
    "                Σ̂_sim[i,j] = βᵢ*βⱼ*σ²ₘ; # off-diagonal elements\n",
    "            end\n",
    "        end\n",
    "    end\n",
    "\n",
    "    (μ_sim, Σ̂_sim*Δt); # return\n",
    "end;"
   ]
  },
  {
   "cell_type": "markdown",
   "id": "8cac2df3",
   "metadata": {},
   "source": [
    "To implement our bandit strategy, we first build the epsilon-greedy dynamic noise algorithm model. This model holds some information about the problem, e.g., the number of assets available for selection, and the learning rate $\\alpha$. We store this model in the `dynamic_algorithm_model::MyEpsilonGreedyDynamicNoiseAlgorithmModel` variable:"
   ]
  },
  {
   "cell_type": "code",
   "execution_count": 32,
   "id": "c5216a73",
   "metadata": {},
   "outputs": [],
   "source": [
    "dynamic_algorithm_model = let\n",
    "\n",
    "    # initialize -\n",
    "    algorithm = nothing; # Initialize the algorithm variable to nothing; this variable will be used to store the algorithm model\n",
    "    K = length(my_test_portfolio_tickers); # TODO: Number of tickers to consider\n",
    "    \n",
    "    # TODO: Build an algorithm model by uncommenting the code block below\n",
    "    algorithm = build(MyEpsilonGreedyDynamicNoiseAlgorithmModel, (\n",
    "        K = K, # arms \n",
    "        α = α, # learning rate\n",
    "    ));\n",
    "\n",
    "    # return the algorithm -\n",
    "    algorithm;\n",
    "end;"
   ]
  },
  {
   "cell_type": "markdown",
   "id": "1f331bcc",
   "metadata": {},
   "source": [
    "Next, we set bounds on the number of shares that we can hold for each asset in our portfolio. The lower bound `ϵ::Float64` represents the __minimum number of shares__ required for portfolio inclusion, while the upper bound is unbounded to allow for flexible allocation. \n",
    "\n",
    "> __Why a non-zero lower bound?__ Setting a non-zero lower bound `ϵ::Float64` follows from the form of the Cobb-Douglas utility function, if any asset has zero allocation, the overall utility becomes zero which does not reflect realistic investor behavior. Thus, we set a small positive value for `ϵ::Float64` to ensure that each selected asset contributes positively to the portfolio's utility.\n",
    "\n",
    "We'll store this in the `static_share_bounds::Array{Float64,2}` variable:"
   ]
  },
  {
   "cell_type": "code",
   "execution_count": 34,
   "id": "2e305fd5",
   "metadata": {},
   "outputs": [],
   "source": [
    "static_share_bounds = let\n",
    "\n",
    "    # initialize -\n",
    "    K = length(my_test_portfolio_tickers); # TODO: Number of tickers to consider\n",
    "    bounds = Array{Float64,2}(undef, K, 2);\n",
    "    \n",
    "    # build my bounds array -\n",
    "    for i ∈ eachindex(my_test_portfolio_tickers)\n",
    "        bounds[i,1] = ϵ; # min shares that we can hold of this asset\n",
    "        bounds[i,2] = Inf; # max number of shares, Inf says this is unbounded\n",
    "    end\n",
    "    bounds;\n",
    "end;"
   ]
  },
  {
   "cell_type": "markdown",
   "id": "4b08dc70",
   "metadata": {},
   "source": [
    "Now we build the context model that encapsulates all the data and parameters needed for the bandit algorithm to make portfolio decisions. The context includes the market data, single index model parameters, ticker symbols, budget constraints, and bounds on share purchases. We'll store this in the `dynamic_context_model::MyDynamicBanditPortfolioAllocationContextModel` variable:"
   ]
  },
  {
   "cell_type": "code",
   "execution_count": 36,
   "id": "e00a4441",
   "metadata": {},
   "outputs": [],
   "source": [
    "dynamic_context_model = let\n",
    "\n",
    "    # initialize -\n",
    "    K = length(my_test_portfolio_tickers); # TODO: Number of tickers to consider\n",
    "    nₒ = ones(K); # initial guess, assume 1 x share for each\n",
    "\n",
    "    # build -\n",
    "    contextmodel = build(MyDynamicBanditPortfolioAllocationContextModel, (\n",
    "        dataset = dataset,\n",
    "        singleindexmodels = sim_model_parameters,\n",
    "        tickers = my_test_portfolio_tickers,\n",
    "        nₒ = nₒ,\n",
    "        B = B,\n",
    "        bounds = static_share_bounds,\n",
    "        X̄ = X̄,\n",
    "        R̄ₘ = Ḡₘ,\n",
    "        number_of_samples_to_draw = size(X̄,2),\n",
    "        μₒ = zeros(2^K) # initially we have *no* idea which arm is best\n",
    "    ));\n",
    "\n",
    "    contextmodel;\n",
    "end;"
   ]
  },
  {
   "cell_type": "markdown",
   "id": "2e64f71c",
   "metadata": {},
   "source": [
    "Finally, we test our approach by solving the utility maximization problem for the case where we select all available assets (by setting the action vector `a::Vector{Int64}` to all ones). This gives us a baseline utility `U::Float64` we could achieve with our full portfolio. \n",
    "\n",
    "> __Expectation:__ If this doesn't blow up, then it will return a finite utility value, optimal share counts, fill prices, and preference parameters for each asset in the portfolio. Then we can move on to implementing the bandit algorithm to select subsets of assets dynamically.\n",
    "\n",
    "So what do we see?"
   ]
  },
  {
   "cell_type": "code",
   "execution_count": 38,
   "id": "e644a2a2",
   "metadata": {},
   "outputs": [],
   "source": [
    "(U, n, pₒ, γ) = let\n",
    "   \n",
    "    # call my world function to test -\n",
    "    K = length(my_test_portfolio_tickers); # TODO: Number of tickers to consider\n",
    "    t = 1; # what time period are we in?\n",
    "\n",
    "    # call the world function directly -\n",
    "    U, n, pₒ, γ = world(t, ones(Int64,K), dynamic_context_model);\n",
    "end;"
   ]
  },
  {
   "cell_type": "code",
   "execution_count": 39,
   "id": "bdab1fd7",
   "metadata": {},
   "outputs": [
    {
     "data": {
      "text/plain": [
       "-17.680530283780854"
      ]
     },
     "execution_count": 39,
     "metadata": {},
     "output_type": "execute_result"
    }
   ],
   "source": [
    "U"
   ]
  },
  {
   "cell_type": "markdown",
   "id": "19bf94a2",
   "metadata": {},
   "source": [
    "__Preferred versus Non-Preferred Assets:__ The `γ::Array{Float64,1}` vector computed above indicates whether an asset is preferred or non-preferred. If $\\gamma_i \\geq 0$, then the asset is preferred; otherwise, it is non-preferred. Let's look at what assets are preferred versus non-preferred:"
   ]
  },
  {
   "cell_type": "code",
   "execution_count": 41,
   "id": "34459779",
   "metadata": {
    "jupyter": {
     "source_hidden": true
    }
   },
   "outputs": [
    {
     "name": "stdout",
     "output_type": "stream",
     "text": [
      " -------- ------------ -----------\n",
      " \u001b[1m ticker \u001b[0m \u001b[1m         γᵢ \u001b[0m \u001b[1m preferred \u001b[0m\n",
      " \u001b[90m String \u001b[0m \u001b[90m    Float64 \u001b[0m \u001b[90m    String \u001b[0m\n",
      " -------- ------------ -----------\n",
      "    AAPL      0.19245         Yes\n",
      "    MSFT     0.190485         Yes\n",
      "    INTC   -0.0192358          No\n",
      "      MU    0.0745648         Yes\n",
      "     AMD     0.177492         Yes\n",
      "      GS    0.0810726         Yes\n",
      "     BAC    0.0659029         Yes\n",
      "     WFC    0.0322735         Yes\n",
      "       C     0.017186         Yes\n",
      "       F   -0.0283554          No\n",
      "      GM     0.018269         Yes\n",
      "     JNJ    0.0759124         Yes\n",
      "      PG     0.135188         Yes\n",
      "     UPS    0.0203514         Yes\n",
      "    COST     0.255981         Yes\n",
      "     TGT    0.0826703         Yes\n",
      "     WMT     0.230516         Yes\n",
      "     MRK     0.111904         Yes\n",
      "     PFE   -0.0210359          No\n",
      "    ADBE     0.144215         Yes\n",
      " -------- ------------ -----------\n"
     ]
    }
   ],
   "source": [
    "let\n",
    "\n",
    "    # initialize -\n",
    "    df = DataFrame();\n",
    "\n",
    "    for i ∈ eachindex(my_test_portfolio_tickers)\n",
    "        ticker = my_test_portfolio_tickers[i];\n",
    "\n",
    "        # get the model -\n",
    "        row_df = (\n",
    "            ticker = ticker,\n",
    "            γᵢ = γ[i],\n",
    "            preferred = γ[i] >= 0 ? \"Yes\" : \"No\",\n",
    "\n",
    "        );\n",
    "        push!(df, row_df);\n",
    "    end\n",
    "\n",
    "    # make a table -\n",
    "     pretty_table(df, backend = :text, fit_table_in_display_vertically = false, fit_table_in_display_horizontally = false,\n",
    "         table_format = TextTableFormat(borders = text_table_borders__compact)\n",
    "    );\n",
    "end"
   ]
  },
  {
   "cell_type": "markdown",
   "id": "6203f10e",
   "metadata": {},
   "source": [
    "Now that we have the preferred versus non-preferred assets, we'll make a table that summarizes the resulting shares `n::Array{Float64,1}` purchased for each asset in our test portfolio:"
   ]
  },
  {
   "cell_type": "code",
   "execution_count": 43,
   "id": "2668fc7b",
   "metadata": {
    "jupyter": {
     "source_hidden": true
    }
   },
   "outputs": [
    {
     "name": "stdout",
     "output_type": "stream",
     "text": [
      " -------- --------- ------------ ---------- ------------ ------------ ---------\n",
      " \u001b[1m ticker \u001b[0m \u001b[1m      Sᵢ \u001b[0m \u001b[1m         γᵢ \u001b[0m \u001b[1m       nᵢ \u001b[0m \u001b[1m         wᵢ \u001b[0m \u001b[1m         UC \u001b[0m \u001b[1m      CS \u001b[0m\n",
      " \u001b[90m String \u001b[0m \u001b[90m Float64 \u001b[0m \u001b[90m    Float64 \u001b[0m \u001b[90m  Float64 \u001b[0m \u001b[90m    Float64 \u001b[0m \u001b[90m    Float64 \u001b[0m \u001b[90m Float64 \u001b[0m\n",
      " -------- --------- ------------ ---------- ------------ ------------ ---------\n",
      "    AAPL   243.901      0.19245    4.13886     0.100947      1009.47   1009.47\n",
      "    MSFT   422.273     0.190485    2.36616    0.0999163      999.163   2008.63\n",
      "    INTC    20.351   -0.0192358      0.001    2.0351e-6     0.020351   2008.65\n",
      "      MU   89.6988    0.0745648    4.36037     0.039112       391.12   2399.77\n",
      "     AMD   125.358     0.177492    7.42684    0.0931013      931.013   3330.79\n",
      "      GS   573.093    0.0810726   0.742036    0.0425256      425.256   3756.04\n",
      "     BAC    44.628    0.0659029    7.74593    0.0345685      345.685   4101.73\n",
      "     WFC   71.2661    0.0322735    2.37541    0.0169286      169.286   4271.01\n",
      "       C   69.9792     0.017186     1.2882   0.00901468      90.1468   4361.16\n",
      "       F   9.62025   -0.0283554      0.001   9.62025e-7   0.00962025   4361.17\n",
      "      GM   50.6226     0.018269    1.89297   0.00958274      95.8274    4457.0\n",
      "     JNJ   143.913    0.0759124    2.76687    0.0398188      398.188   4855.19\n",
      "      PG   166.437     0.135188    4.26054    0.0709111      709.111    5564.3\n",
      "     UPS   124.053    0.0203514   0.860526     0.010675       106.75   5671.05\n",
      "    COST   921.239     0.255981    1.45751     0.134272      1342.72   7013.76\n",
      "     TGT   137.264    0.0826703    3.15914    0.0433636      433.636    7447.4\n",
      "     WMT   90.5305     0.230516    13.3562     0.120914      1209.14   8656.54\n",
      "     MRK   99.4602     0.111904    5.90161    0.0586975      586.975   9243.52\n",
      "     PFE   26.6943   -0.0210359      0.001   2.66943e-6    0.0266943   9243.54\n",
      "    ADBE    425.97     0.144215    1.77585    0.0756458      756.458   10000.0\n",
      " -------- --------- ------------ ---------- ------------ ------------ ---------\n"
     ]
    }
   ],
   "source": [
    "let\n",
    "\n",
    "    # initialize -\n",
    "    df = DataFrame();\n",
    "    CS = 0;\n",
    "    t = 1;\n",
    "    K = length(my_test_portfolio_tickers); # TODO: Number of tickers to consider\n",
    "    context = dynamic_context_model;\n",
    "    total_number_of_assets = context.number_of_assets; # total number of assets that we *could* purchase\n",
    "    bounds = context.bounds; # bounds for how much we purchase\n",
    "    B = context.B; # budget for this period\n",
    "    mylocaltickers = context.tickers; # tickers for the assets in this portfolio\n",
    "    localdataset = context.dataset; # dataset for the assets in this portfolio\n",
    "    singleindexmodels = context.singleindexmodels; # single index models for the assets in this portfolio\n",
    "    N = 2^K; # number of possible portfolios\n",
    "    \n",
    "\n",
    "    for i ∈ 1:K\n",
    "\n",
    "        CS += n[i]*pₒ[i];\n",
    "        wᵢ = (n[i]*pₒ[i]/B);\n",
    "\n",
    "        row_df = (\n",
    "            ticker = my_test_portfolio_tickers[i],\n",
    "            Sᵢ = pₒ[i],\n",
    "            γᵢ = γ[i],\n",
    "            nᵢ = n[i],\n",
    "            wᵢ = wᵢ,\n",
    "            UC = n[i]*pₒ[i],\n",
    "            CS = CS,\n",
    "        );\n",
    "        push!(df, row_df);\n",
    "    end\n",
    "\n",
    "    pretty_table(df, backend = :text, fit_table_in_display_vertically = false, fit_table_in_display_horizontally = false,\n",
    "         table_format = TextTableFormat(borders = text_table_borders__compact)\n",
    "    );\n",
    "end"
   ]
  },
  {
   "cell_type": "markdown",
   "id": "7371f99c",
   "metadata": {},
   "source": [
    "## Task 2: Solve the Online Bandit Portfolio Optimization Problem\n",
    "In this task, we use the epsilon-greedy bandit algorithm to explore different portfolio combinations and learn which asset subsets maximize investor utility. \n",
    "\n",
    "The algorithm iteratively selects actions (portfolio compositions), observes the resulting utility, and updates its beliefs about the reward distribution. The results are stored in the return variables `R::Array{Float64,2}`, `μ::Array{Float64,1}`, `S::Array{Float64,2}`, `P::Array{Float64,2}`, and `G::Array{Float64,2}`. \n",
    "\n",
    "Let's run the algorithm for 250 iterations:"
   ]
  },
  {
   "cell_type": "code",
   "execution_count": 45,
   "id": "a48f9cc2",
   "metadata": {},
   "outputs": [],
   "source": [
    "R, μ, S, P, G = my_bandit_solve(dynamic_algorithm_model, T = 250, world = world, context = dynamic_context_model); # check the world function"
   ]
  },
  {
   "cell_type": "code",
   "execution_count": 82,
   "id": "e8b41a6b-7637-435b-968d-3df289394c8e",
   "metadata": {},
   "outputs": [
    {
     "data": {
      "text/plain": [
       "1048576-element Vector{Float64}:\n",
       "  0.00817706199372983\n",
       "  0.007316749594698126\n",
       "  0.011463189416684382\n",
       " -0.0045684346124372525\n",
       " -0.009335995326710544\n",
       " -0.008355953015113195\n",
       " -0.013105331266013598\n",
       "  0.0056913080644323145\n",
       "  0.009939864282972334\n",
       "  0.00888247402480798\n",
       "  0.013301495970579164\n",
       " -0.0065000176556160695\n",
       " -0.01134377101156865\n",
       "  ⋮\n",
       " -0.06880751363855016\n",
       " -0.06201797537041391\n",
       " -0.068674582639809\n",
       " -0.05645906117588358\n",
       " -0.06315712319684953\n",
       " -0.05671323278186551\n",
       " -0.06208232244254034\n",
       " -0.06461193107600219\n",
       " -0.07200624117430926\n",
       " -0.0648214298710901\n",
       " -0.07107903359637201\n",
       " -0.0714223538343581"
      ]
     },
     "execution_count": 82,
     "metadata": {},
     "output_type": "execute_result"
    }
   ],
   "source": [
    "μ"
   ]
  },
  {
   "cell_type": "code",
   "execution_count": 46,
   "id": "5bf7cb3e",
   "metadata": {},
   "outputs": [
    {
     "data": {
      "text/plain": [
       "250×20 Matrix{Float64}:\n",
       "  4.17194  2.35732  0.001   4.37683  …  13.4067   5.92771  0.001  1.76777\n",
       "  8.54755  4.9024   0.0     0.0         27.4832   0.0      0.001  3.64952\n",
       " 12.1721   6.94812  0.0    12.7076       0.0     17.2643   0.0    0.0\n",
       "  5.95207  3.40023  0.0     0.0         19.1009   0.0      0.001  2.54983\n",
       "  0.0      5.26682  0.001   0.0         29.6582   0.0      0.001  3.89946\n",
       "  0.0      4.76169  0.0     8.86755  …   0.0     11.8672   0.001  0.0\n",
       " 12.1155   6.95415  0.0    12.7325       0.0     17.337    0.0    0.0\n",
       "  0.0      0.0      0.0    12.6491       0.0     17.1256   0.0    5.05223\n",
       "  7.29385  4.14381  0.001   7.64012      0.0     10.4301   0.001  3.1182\n",
       "  0.0      4.26716  0.0     0.0         23.865    0.0      0.0    3.17578\n",
       "  7.79623  0.0      0.001   8.20461  …  24.9815  11.1003   0.0    3.3305\n",
       "  0.0      0.0      0.0     9.62205     28.8664   0.0      0.001  3.79996\n",
       "  0.0      0.0      0.0     0.0         28.5782  12.6513   0.001  0.0\n",
       "  ⋮                                  ⋱                            \n",
       "  5.11888  2.90465  0.0     0.0         16.4795   7.27921  0.0    2.15496\n",
       "  5.10714  2.90554  0.0     0.0         16.4918   7.2495   0.0    2.1567\n",
       "  5.12856  2.9009   0.0     0.0      …  16.4945   7.2751   0.0    2.15765\n",
       "  5.12066  2.91995  0.0     0.0         16.3544   7.3094   0.0    2.15385\n",
       "  5.11262  2.90191  0.0     0.0         16.4508   7.27893  0.0    2.18679\n",
       "  0.0      0.0      0.001  10.2994      31.3924   0.0      0.0    4.13166\n",
       "  0.0      5.9319   0.001   0.0          0.0     14.8955   0.0    0.0\n",
       "  0.0      5.20595  0.0     0.0      …   0.0      0.0      0.0    3.87544\n",
       "  5.11531  2.92418  0.0     0.0         16.4311   7.23984  0.0    2.1803\n",
       "  5.11982  2.90945  0.0     0.0         16.3774   7.2985   0.0    2.16087\n",
       "  5.12688  2.90033  0.0     0.0         16.4034   7.29132  0.0    2.18136\n",
       "  5.09209  2.90993  0.0     0.0         16.47     7.26485  0.0    2.1813"
      ]
     },
     "execution_count": 46,
     "metadata": {},
     "output_type": "execute_result"
    }
   ],
   "source": [
    "S # share counts over for each trial"
   ]
  },
  {
   "cell_type": "markdown",
   "id": "85e87052",
   "metadata": {},
   "source": [
    "We can sort the possible portfolio compositions by the estimated average utility `μ::Array{Float64,1}` to see which portfolios the bandit algorithm thinks are best:"
   ]
  },
  {
   "cell_type": "code",
   "execution_count": 48,
   "id": "6fce2a41",
   "metadata": {},
   "outputs": [
    {
     "data": {
      "text/plain": [
       "1048576-element Vector{Int64}:\n",
       "  770419\n",
       "  130506\n",
       "  649273\n",
       "  744883\n",
       "  583970\n",
       "    5584\n",
       "   80145\n",
       "  669801\n",
       "  642114\n",
       "  163851\n",
       "  235739\n",
       "  235995\n",
       "  236763\n",
       "       ⋮\n",
       "   61079\n",
       "  253899\n",
       "  987282\n",
       "  355567\n",
       "  770621\n",
       "  778118\n",
       "  514855\n",
       "  892185\n",
       "  237661\n",
       "  205531\n",
       "  991205\n",
       " 1020415"
      ]
     },
     "execution_count": 48,
     "metadata": {},
     "output_type": "execute_result"
    }
   ],
   "source": [
    "sorted_reward_index_array = sortperm(μ, rev=true) # sort the index of the rewards"
   ]
  },
  {
   "cell_type": "markdown",
   "id": "cd7c12d4",
   "metadata": {},
   "source": [
    "__What's in the best portfolio?__  \n",
    "Let's build a table that shows the optimal portfolio composition identified by the bandit algorithm after 250 periods of exploration. \n",
    "\n",
    "The utility value `U::Float64` indicates the investor satisfaction level for this portfolio, while the weights `wᵢ::Float64` show the proportion of budget allocated to each asset. Notice that the bandit algorithm may have selected a portfolio subset (where some `nᵢ::Float64` values are near zero) rather than including all assets, demonstrating how the algorithm balances portfolio complexity with investor utility."
   ]
  },
  {
   "cell_type": "code",
   "execution_count": 50,
   "id": "344b3af5",
   "metadata": {},
   "outputs": [
    {
     "name": "stdout",
     "output_type": "stream",
     "text": [
      "(U, j) = (10.02559152367366, 770419)\n",
      " -------- --------- ------------ ---------- ----------- --------- ---------\n",
      " \u001b[1m ticker \u001b[0m \u001b[1m      Sᵢ \u001b[0m \u001b[1m         γᵢ \u001b[0m \u001b[1m       nᵢ \u001b[0m \u001b[1m        wᵢ \u001b[0m \u001b[1m      UC \u001b[0m \u001b[1m      CS \u001b[0m\n",
      " \u001b[90m String \u001b[0m \u001b[90m Float64 \u001b[0m \u001b[90m    Float64 \u001b[0m \u001b[90m  Float64 \u001b[0m \u001b[90m   Float64 \u001b[0m \u001b[90m Float64 \u001b[0m \u001b[90m Float64 \u001b[0m\n",
      " -------- --------- ------------ ---------- ----------- --------- ---------\n",
      "    AAPL   242.833      0.19245    5.11345    0.124171   1241.71   1241.71\n",
      "    MSFT   420.042     0.190485    2.92598    0.122903   1229.03   2470.75\n",
      "    INTC   20.1746   -0.0192358        0.0         0.0       0.0   2470.75\n",
      "      MU   88.0118    0.0745648        0.0         0.0       0.0   2470.75\n",
      "     AMD   122.266     0.177492    9.36648     0.11452    1145.2   3615.95\n",
      "      GS   573.372    0.0810726   0.912307   0.0523091   523.091   4139.04\n",
      "     BAC     44.15    0.0659029    9.63113   0.0425214   425.214   4564.26\n",
      "     WFC   70.3486    0.0322735        0.0         0.0       0.0   4564.26\n",
      "       C   70.2541     0.017186    1.57836   0.0110886   110.886   4675.14\n",
      "       F   9.61225   -0.0283554        0.0         0.0       0.0   4675.14\n",
      "      GM   51.5427     0.018269        0.0         0.0       0.0   4675.14\n",
      "     JNJ    144.17    0.0759124        0.0         0.0       0.0   4675.14\n",
      "      PG   164.845     0.135188        0.0         0.0       0.0   4675.14\n",
      "     UPS   124.235    0.0203514        0.0         0.0       0.0   4675.14\n",
      "    COST   921.608     0.255981    1.79211    0.165163   1651.63   6326.77\n",
      "     TGT   135.921    0.0826703    3.92434     0.05334     533.4   6860.17\n",
      "     WMT   90.8418     0.230516    16.3726    0.148732   1487.32   8347.49\n",
      "     MRK   99.4704     0.111904    7.25861   0.0722017   722.017   9069.51\n",
      "     PFE   26.7764   -0.0210359        0.0         0.0       0.0   9069.51\n",
      "    ADBE   430.314     0.144215    2.16236   0.0930492   930.492   10000.0\n",
      " -------- --------- ------------ ---------- ----------- --------- ---------\n"
     ]
    }
   ],
   "source": [
    "let\n",
    "\n",
    "    # initialize -\n",
    "    df = DataFrame();\n",
    "    CS = 0;\n",
    "    t = 1;\n",
    "    K = length(my_test_portfolio_tickers); # TODO: Number of tickers to consider\n",
    "    context = dynamic_context_model;\n",
    "    total_number_of_assets = context.number_of_assets; # total number of assets that we *could* purchase\n",
    "    bounds = context.bounds; # bounds for how much we purchase\n",
    "    B = context.B; # budget for this period\n",
    "    mylocaltickers = context.tickers; # tickers for the assets in this portfolio\n",
    "    localdataset = context.dataset; # dataset for the assets in this portfolio\n",
    "    singleindexmodels = context.singleindexmodels; # single index models for the assets in this portfolio\n",
    "    N = 2^K; # number of possible portfolios\n",
    "\n",
    "    # compute the best portfolio -\n",
    "    j = sorted_reward_index_array[1]; # get a portfolio index \n",
    "    a = digits(j, base=2, pad=K); # generate a binary representation of the number, with K digits  \n",
    "    if (j == N)\n",
    "        a = digits(j - 1, base=2, pad=K); # generate a binary representation of the number, with K digits  \n",
    "    end\n",
    "\n",
    "    # call world -\n",
    "    U, n, pₒ, γ = world(t, a, dynamic_context_model);\n",
    "\n",
    "    @show U,j\n",
    "\n",
    "    for i ∈ 1:K\n",
    "\n",
    "        CS += n[i]*pₒ[i];\n",
    "        wᵢ = (n[i]*pₒ[i]/B);\n",
    "\n",
    "        row_df = (\n",
    "            ticker = my_test_portfolio_tickers[i],\n",
    "            Sᵢ = pₒ[i],\n",
    "            γᵢ = γ[i],\n",
    "            nᵢ = n[i],\n",
    "            wᵢ = wᵢ,\n",
    "            UC = n[i]*pₒ[i],\n",
    "            CS = CS,\n",
    "        );\n",
    "        push!(df, row_df);\n",
    "    end\n",
    "\n",
    "     pretty_table(df, backend = :text, fit_table_in_display_vertically = false, fit_table_in_display_horizontally = false,\n",
    "         table_format = TextTableFormat(borders = text_table_borders__compact)\n",
    "    );\n",
    "end"
   ]
  },
  {
   "cell_type": "markdown",
   "id": "1d901890",
   "metadata": {},
   "source": [
    "Ok, so what is the Sharpe ratio of this portfolio?"
   ]
  },
  {
   "cell_type": "code",
   "execution_count": 52,
   "id": "556e0e28",
   "metadata": {},
   "outputs": [
    {
     "name": "stdout",
     "output_type": "stream",
     "text": [
      "The Sharpe ratio of this portfolio is: 0.8508082016366805\n"
     ]
    }
   ],
   "source": [
    "let\n",
    "\n",
    "    # initialize -\n",
    "    t = 1;\n",
    "    K = length(my_test_portfolio_tickers); # TODO: Number of tickers to consider\n",
    "    N = 2^K; # number of possible portfolios\n",
    "\n",
    "    # compute the best portfolio -\n",
    "    j = sorted_reward_index_array[1]; # get a portfolio index \n",
    "    a = digits(j, base=2, pad=K); # generate a binary representation of the number, with K digits  \n",
    "    if (j == N)\n",
    "        a = digits(j - 1, base=2, pad=K); # generate a binary representation of the number, with K digits  \n",
    "    end\n",
    "\n",
    "    # call world -\n",
    "    U, n, pₒ, γ = world(t, a, dynamic_context_model);\n",
    "\n",
    "    # compute the weights -\n",
    "    w = zeros(K);\n",
    "    for i ∈ 1:K\n",
    "        w[i] = (n[i]*pₒ[i])/B;\n",
    "    end\n",
    "\n",
    "    # get the alpha and beta values for each asset in the portfolio -\n",
    "    α_vector = zeros(K);\n",
    "    β_vector = zeros(K);\n",
    "\n",
    "    # compute the alpha for the portfolio -\n",
    "   for i ∈ 1:K\n",
    "       ticker = my_test_portfolio_tickers[i];\n",
    "       α_vector[i] = sim_model_parameters[ticker].alpha;\n",
    "       β_vector[i] = sim_model_parameters[ticker].beta;\n",
    "   end\n",
    "\n",
    "   # compute the alpha and beta for the portfolio -\n",
    "   α_portfolio = dot(w, α_vector);\n",
    "   β_portfolio = dot(w, β_vector);\n",
    "   numerator = α_portfolio + β_portfolio*μₘ - risk_free_rate;\n",
    "   denominator = sqrt(transpose(w)*Σ̂_sim*w);\n",
    "   sharpe_ratio = numerator/denominator;\n",
    "\n",
    "   println(\"The Sharpe ratio of this portfolio is: $(sharpe_ratio)\");\n",
    "end"
   ]
  },
  {
   "cell_type": "markdown",
   "id": "20f4e787",
   "metadata": {},
   "source": [
    "## Summary\n",
    "This example demonstrates how online stochastic bandit algorithms can be effectively applied to solve the combined asset selection and weight allocation problems in portfolio management through the integration of epsilon-greedy exploration with utility maximization.\n",
    "\n",
    "> __Key Takeaways:__\n",
    "> \n",
    "> * __Bandit Algorithms for Portfolio Selection:__ Multi-armed bandit algorithms like epsilon-greedy enable adaptive asset selection by balancing exploration of uncertain portfolios with exploitation of known high-utility combinations, avoiding the need to exhaustively evaluate all possible subsets.\n",
    "> * __Utility Maximization for Weight Allocation:__ Once a portfolio subset is selected, Cobb-Douglas utility functions provide a principled approach to weight allocation that reflects investor preferences and risk tolerance, with the preference parameters `γ::Array{Float64,1}` distinguishing between preferred and non-preferred assets.\n",
    "> * __Integration of Selection and Allocation:__ The combination of bandit algorithms for asset selection with Cobb-Douglas utility maximization for weight allocation provides a theoretically sound and computationally efficient framework for simultaneously addressing both problems in portfolio optimization.\n",
    "\n",
    "By combining these techniques, investors can manage both the complexity of asset selection and the precision of weight allocation in a computationally efficient and theoretically sound framework.\n",
    "___"
   ]
  },
  {
   "cell_type": "markdown",
   "id": "d6c2b7bd",
   "metadata": {},
   "source": [
    "## Disclaimer and Risks\n",
    "__This content is offered solely for training and informational purposes__. No offer or solicitation to buy or sell securities or derivative products or any investment or trading advice or strategy is made, given, or endorsed by the teaching team. \n",
    "\n",
    "__Trading involves risk__. Carefully review your financial situation before investing in securities, futures contracts, options, or commodity interests. Past performance, whether actual or indicated by historical tests of strategies, is no guarantee of future performance or success. Trading is generally inappropriate for someone with limited resources, investment or trading experience, or a low-risk tolerance.  Only risk capital that is not required for living expenses.\n",
    "\n",
    "__You are fully responsible for any investment or trading decisions you make__. You should decide solely based on your financial circumstances, investment or trading objectives, risk tolerance, and liquidity needs."
   ]
  },
  {
   "cell_type": "markdown",
   "id": "3d9b5c9f",
   "metadata": {},
   "source": []
  }
 ],
 "metadata": {
  "kernelspec": {
   "display_name": "Julia 1.12.1",
   "language": "julia",
   "name": "julia-1.12"
  },
  "language_info": {
   "file_extension": ".jl",
   "mimetype": "application/julia",
   "name": "julia",
   "version": "1.12.1"
  }
 },
 "nbformat": 4,
 "nbformat_minor": 5
}
